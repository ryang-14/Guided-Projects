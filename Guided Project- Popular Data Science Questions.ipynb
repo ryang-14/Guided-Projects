{
 "cells": [
  {
   "cell_type": "markdown",
   "metadata": {},
   "source": [
    "## Guided Project: Popular Data Science Questions\n",
    "The goal of this project is to find content that is interesting for designing a data science education service. We'll be looking through the [Data Science Stack Exhange](https://datascience.stackexchange.com/) website for popular subjects that interests people, and that we can include when we create content for our service."
   ]
  },
  {
   "cell_type": "markdown",
   "metadata": {},
   "source": [
    "## Stack Exchange"
   ]
  },
  {
   "cell_type": "markdown",
   "metadata": {},
   "source": [
    "__What kind of questions are welcomed on this site?__\n",
    "\n",
    "In the help center of the DSSE website, we can read that we should:\n",
    "\n",
    "- Avoid asking subjective questions\n",
    "- Ask practical questions about Data Science.\n",
    "- Ask specific questions and reasonably scoped questions.\n",
    "- Make questions relevant to others.\n",
    "\n",
    "These types of questions will allow for us to sufficiently see what kind of questions people are wanting to learn about, and will be useful for our goal."
   ]
  },
  {
   "cell_type": "markdown",
   "metadata": {
    "collapsed": true
   },
   "source": [
    "__What, other than questions, does the site's home subdivide into?__\n",
    "\n",
    "The home subdivide has topics that includes:\n",
    "- Machine learning\n",
    "- Python\n",
    "- Neural network\n",
    "- Deep learning\n",
    "- Classification\n",
    "- Keras\n",
    "- And many more...\n",
    "\n",
    "All of these subjects can be useful towards our goal."
   ]
  },
  {
   "cell_type": "markdown",
   "metadata": {},
   "source": [
    "__ What information is available in each post?__\n"
   ]
  },
  {
   "cell_type": "code",
   "execution_count": null,
   "metadata": {
    "collapsed": true
   },
   "outputs": [],
   "source": []
  }
 ],
 "metadata": {
  "kernelspec": {
   "display_name": "Python 3",
   "language": "python",
   "name": "python3"
  },
  "language_info": {
   "codemirror_mode": {
    "name": "ipython",
    "version": 3
   },
   "file_extension": ".py",
   "mimetype": "text/x-python",
   "name": "python",
   "nbconvert_exporter": "python",
   "pygments_lexer": "ipython3",
   "version": "3.4.3"
  }
 },
 "nbformat": 4,
 "nbformat_minor": 2
}
