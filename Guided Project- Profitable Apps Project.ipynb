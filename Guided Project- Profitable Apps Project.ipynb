{
 "cells": [
  {
   "cell_type": "markdown",
   "metadata": {
    "collapsed": true
   },
   "source": [
    "## Insight of Revenue on Free Apps from App Store\n",
    "\n",
    "As data analysts at our company, our goal is to discover insights of how our free apps are generating profitable revenue through ads. Our company produces only free apps, so we rely on ads for sustainability. \n",
    "\n",
    "The objective of this project is to be able to observe which free app on the market produces a profitable revenue for our company. Our team of data analyst will explore data to help our developers make data driven decisions and observe apps that will attract users."
   ]
  },
  {
   "cell_type": "code",
   "execution_count": 1,
   "metadata": {
    "collapsed": true
   },
   "outputs": [],
   "source": [
    "def explore_data(dataset, start, end, rows_and_columns=False):\n",
    "    dataset_slice = dataset[start:end]    \n",
    "    for row in dataset_slice:\n",
    "        print(row)\n",
    "        print('\\n') # adds a new (empty) line after each row\n",
    "\n",
    "    if rows_and_columns:\n",
    "        print('Number of rows:', len(dataset))\n",
    "        print('Number of columns:', len(dataset[0]))"
   ]
  },
  {
   "cell_type": "code",
   "execution_count": 2,
   "metadata": {
    "collapsed": true
   },
   "outputs": [],
   "source": [
    "# Apple iOS apps dataset #\n",
    "opened_file = open('AppleStore.csv')\n",
    "from csv import reader\n",
    "read_file = reader(opened_file)\n",
    "ios_apps = list(read_file)\n",
    "ios_apps_header = ios_apps[0]\n",
    "ios_apps = ios_apps[1:]\n",
    "\n",
    "# Google Android apps dataset #\n",
    "opened_file = open('googleplaystore.csv')\n",
    "read_file = reader(opened_file)\n",
    "android_apps = list(read_file)\n",
    "android_apps_header = android_apps[0]\n",
    "android_apps = android_apps[1:]\n"
   ]
  },
  {
   "cell_type": "code",
   "execution_count": 3,
   "metadata": {
    "collapsed": false,
    "scrolled": true
   },
   "outputs": [
    {
     "name": "stdout",
     "output_type": "stream",
     "text": [
      "['id', 'track_name', 'size_bytes', 'currency', 'price', 'rating_count_tot', 'rating_count_ver', 'user_rating', 'user_rating_ver', 'ver', 'cont_rating', 'prime_genre', 'sup_devices.num', 'ipadSc_urls.num', 'lang.num', 'vpp_lic']\n",
      "\n",
      "\n",
      "['389801252', 'Instagram', '113954816', 'USD', '0.0', '2161558', '1289', '4.5', '4.0', '10.23', '12+', 'Photo & Video', '37', '0', '29', '1']\n",
      "\n",
      "\n",
      "['529479190', 'Clash of Clans', '116476928', 'USD', '0.0', '2130805', '579', '4.5', '4.5', '9.24.12', '9+', 'Games', '38', '5', '18', '1']\n",
      "\n",
      "\n",
      "['420009108', 'Temple Run', '65921024', 'USD', '0.0', '1724546', '3842', '4.5', '4.0', '1.6.2', '9+', 'Games', '40', '5', '1', '1']\n",
      "\n",
      "\n",
      "['284035177', 'Pandora - Music & Radio', '130242560', 'USD', '0.0', '1126879', '3594', '4.0', '4.5', '8.4.1', '12+', 'Music', '37', '4', '1', '1']\n",
      "\n",
      "\n",
      "Number of rows: 7197\n",
      "Number of columns: 16\n"
     ]
    }
   ],
   "source": [
    "print(ios_apps_header)\n",
    "print('\\n')\n",
    "explore_data(ios_apps, 1, 5, True)"
   ]
  },
  {
   "cell_type": "code",
   "execution_count": 4,
   "metadata": {
    "collapsed": false,
    "scrolled": true
   },
   "outputs": [
    {
     "name": "stdout",
     "output_type": "stream",
     "text": [
      "['App', 'Category', 'Rating', 'Reviews', 'Size', 'Installs', 'Type', 'Price', 'Content Rating', 'Genres', 'Last Updated', 'Current Ver', 'Android Ver']\n",
      "\n",
      "\n",
      "['Coloring book moana', 'ART_AND_DESIGN', '3.9', '967', '14M', '500,000+', 'Free', '0', 'Everyone', 'Art & Design;Pretend Play', 'January 15, 2018', '2.0.0', '4.0.3 and up']\n",
      "\n",
      "\n",
      "['U Launcher Lite – FREE Live Cool Themes, Hide Apps', 'ART_AND_DESIGN', '4.7', '87510', '8.7M', '5,000,000+', 'Free', '0', 'Everyone', 'Art & Design', 'August 1, 2018', '1.2.4', '4.0.3 and up']\n",
      "\n",
      "\n",
      "['Sketch - Draw & Paint', 'ART_AND_DESIGN', '4.5', '215644', '25M', '50,000,000+', 'Free', '0', 'Teen', 'Art & Design', 'June 8, 2018', 'Varies with device', '4.2 and up']\n",
      "\n",
      "\n",
      "['Pixel Draw - Number Art Coloring Book', 'ART_AND_DESIGN', '4.3', '967', '2.8M', '100,000+', 'Free', '0', 'Everyone', 'Art & Design;Creativity', 'June 20, 2018', '1.1', '4.4 and up']\n",
      "\n",
      "\n",
      "Number of rows: 10841\n",
      "Number of columns: 13\n"
     ]
    }
   ],
   "source": [
    "print(android_apps_header)\n",
    "print('\\n')\n",
    "explore_data(android_apps, 1, 5, True)"
   ]
  },
  {
   "cell_type": "markdown",
   "metadata": {},
   "source": [
    "In the initial observation, column names that can help us from the iOs dataset are `track_name`, `currency`, `price`, `rating_count_tot`,\n",
    "`rating_count_ver`, `prime_genre`. The column name descriptions can be found [here](https://www.kaggle.com/ramamet4/app-store-apple-data-set-10k-apps/home)\n",
    "\n",
    "For the android dataset, useful column names include: `App`, `Category`, `Rating`, `Reviews`, `Installs`, `Type`, `Price`,\n",
    "`Genres`. Information regarding the columns can also be found [here](https://www.kaggle.com/lava18/google-play-store-apps/home)"
   ]
  },
  {
   "cell_type": "code",
   "execution_count": 5,
   "metadata": {
    "collapsed": false
   },
   "outputs": [
    {
     "data": {
      "text/plain": [
       "['Life Made WI-Fi Touchscreen Photo Frame',\n",
       " '1.9',\n",
       " '19',\n",
       " '3.0M',\n",
       " '1,000+',\n",
       " 'Free',\n",
       " '0',\n",
       " 'Everyone',\n",
       " '',\n",
       " 'February 11, 2018',\n",
       " '1.0.19',\n",
       " '4.0 and up']"
      ]
     },
     "execution_count": 5,
     "metadata": {},
     "output_type": "execute_result"
    }
   ],
   "source": [
    "android_apps[10472]"
   ]
  },
  {
   "cell_type": "code",
   "execution_count": 6,
   "metadata": {
    "collapsed": true
   },
   "outputs": [],
   "source": [
    "del android_apps[10472]"
   ]
  },
  {
   "cell_type": "markdown",
   "metadata": {},
   "source": [
    "# Removing duplicate entries\n",
    "## Part One\n",
    "While observing the android apps dataset long enough, there exists multiple duplicate data for some apps."
   ]
  },
  {
   "cell_type": "code",
   "execution_count": 7,
   "metadata": {
    "collapsed": false
   },
   "outputs": [
    {
     "name": "stdout",
     "output_type": "stream",
     "text": [
      "Number of duplicate android apps:  1181\n",
      "\n",
      "\n",
      "Examples of duplicate android apps:  ['Quick PDF Scanner + OCR FREE', 'Box', 'Google My Business', 'ZOOM Cloud Meetings', 'join.me - Simple Meetings', 'Box', 'Zenefits', 'Google Ads', 'Google My Business', 'Slack']\n"
     ]
    }
   ],
   "source": [
    "android_duplicate_app = []\n",
    "android_unique_app = []\n",
    "\n",
    "for app in android_apps:\n",
    "    name = app[0]\n",
    "    if name in android_unique_app:\n",
    "        android_duplicate_app.append(name)\n",
    "    else:\n",
    "        android_unique_app.append(name)\n",
    "        \n",
    "print('Number of duplicate android apps: ', len(android_duplicate_app))\n",
    "print('\\n')\n",
    "print('Examples of duplicate android apps: ', android_duplicate_app[:10])\n",
    "\n",
    "\n"
   ]
  },
  {
   "cell_type": "markdown",
   "metadata": {},
   "source": [
    "## Part Two\n",
    "\n",
    "Upon identifing the multiple app data entries, the next step would be to remove the ones that will not be used for analysis. For example, in this dataset, instagram has multiple entries because of different time of updates to the gathered data. We will not randomly remove any entry, instead, we will take the entry with the latest information update."
   ]
  },
  {
   "cell_type": "code",
   "execution_count": 8,
   "metadata": {
    "collapsed": false
   },
   "outputs": [
    {
     "name": "stdout",
     "output_type": "stream",
     "text": [
      "Expected length:  9659\n",
      "Length of Updated apps:  9659\n"
     ]
    }
   ],
   "source": [
    "reviews_max = {}\n",
    "for app in android_apps:\n",
    "    name = app[0]\n",
    "    n_reviews = float(app[3])\n",
    "    \n",
    "    if name in reviews_max and reviews_max[name] < n_reviews:\n",
    "        reviews_max[name] = n_reviews\n",
    "        \n",
    "    elif name not in reviews_max:\n",
    "        reviews_max[name] = n_reviews\n",
    "        \n",
    "print('Expected length: ', len(android_apps) -  len(android_duplicate_app))\n",
    "print('Length of Updated apps: ', len(reviews_max))\n",
    "\n",
    "android_clean = []\n",
    "already_added = []\n",
    "\n",
    "for app in android_apps:\n",
    "    name = app[0]\n",
    "    n_reviews = float(app[3])\n",
    "    \n",
    "    if (n_reviews == reviews_max[name]) and (name not in already_added):\n",
    "        android_clean.append(app)\n",
    "        already_added.append(name)\n",
    "    \n"
   ]
  },
  {
   "cell_type": "markdown",
   "metadata": {},
   "source": [
    "To apply actions of removal, I created a dictionary to store the highest value of an app to a unique key. A loop will compare the review values and take the highest value between similar named apps. If an app doesn't exist it will be added into the dictionary as a unique key.\n",
    "\n",
    "In the second step of the removal process, I created two lists. One will be to store the new `android_clean` dataset, and the other will be `already_used` apps so doesn't have repeated app. In this loop, the reviews of the unclean dataset will be compared to the max review dictionary value and be stored in a clean dataset. If the app already exist it will be added to the list of `already_added`, so that no repeated app will exist in the `android_clean` dataset."
   ]
  },
  {
   "cell_type": "code",
   "execution_count": 9,
   "metadata": {
    "collapsed": false
   },
   "outputs": [
    {
     "name": "stdout",
     "output_type": "stream",
     "text": [
      "False\n",
      "True\n",
      "True\n"
     ]
    }
   ],
   "source": [
    "## Function to iterate through strings by character\n",
    "## to check if there are non-english characters.\n",
    "def english_check(a_string):\n",
    "    not_english_char = 0\n",
    "    for character in a_string:\n",
    "        if ord(character) > 127 and not_english_char <= 3:\n",
    "            not_english_char +=1\n",
    "    if not_english_char > 3:\n",
    "        return False\n",
    "    else:\n",
    "        return True\n",
    "\n",
    "print(english_check('爱奇艺PPS -《欢乐颂2》电视剧热播'))\n",
    "print(english_check('Docs To Go™ Free Office Suite'))\n",
    "print(english_check('Instachat 😜'))"
   ]
  },
  {
   "cell_type": "code",
   "execution_count": 10,
   "metadata": {
    "collapsed": false
   },
   "outputs": [
    {
     "name": "stdout",
     "output_type": "stream",
     "text": [
      "9614\n",
      "['Photo Editor & Candy Camera & Grid & ScrapBook', 'ART_AND_DESIGN', '4.1', '159', '19M', '10,000+', 'Free', '0', 'Everyone', 'Art & Design', 'January 7, 2018', '1.0.0', '4.0.3 and up']\n",
      "\n",
      "\n",
      "['U Launcher Lite – FREE Live Cool Themes, Hide Apps', 'ART_AND_DESIGN', '4.7', '87510', '8.7M', '5,000,000+', 'Free', '0', 'Everyone', 'Art & Design', 'August 1, 2018', '1.2.4', '4.0.3 and up']\n",
      "\n",
      "\n",
      "Number of rows: 9614\n",
      "Number of columns: 13\n"
     ]
    }
   ],
   "source": [
    "## Removing non-english apps from android_clean ##\n",
    "english_android_apps = []\n",
    "for app in android_clean:\n",
    "    name = app[0]\n",
    "    if english_check(name):\n",
    "        english_android_apps.append(app)\n",
    "print(len(english_android_apps))\n",
    "explore_data(english_android_apps, 0, 2, True)"
   ]
  },
  {
   "cell_type": "code",
   "execution_count": 11,
   "metadata": {
    "collapsed": false
   },
   "outputs": [
    {
     "name": "stdout",
     "output_type": "stream",
     "text": [
      "6183\n",
      "['284882215', 'Facebook', '389879808', 'USD', '0.0', '2974676', '212', '3.5', '3.5', '95.0', '4+', 'Social Networking', '37', '1', '29', '1']\n",
      "\n",
      "\n",
      "['389801252', 'Instagram', '113954816', 'USD', '0.0', '2161558', '1289', '4.5', '4.0', '10.23', '12+', 'Photo & Video', '37', '0', '29', '1']\n",
      "\n",
      "\n",
      "Number of rows: 6183\n",
      "Number of columns: 16\n"
     ]
    }
   ],
   "source": [
    "## Removing non-english apps from ios_apps ##\n",
    "english_ios_apps = []\n",
    "for app in ios_apps:\n",
    "    name = app[1]\n",
    "    if english_check(name):\n",
    "        english_ios_apps.append(app)\n",
    "print(len(english_ios_apps))\n",
    "explore_data(english_ios_apps, 0, 2, True)"
   ]
  },
  {
   "cell_type": "code",
   "execution_count": 12,
   "metadata": {
    "collapsed": false
   },
   "outputs": [
    {
     "name": "stdout",
     "output_type": "stream",
     "text": [
      "['Photo Editor & Candy Camera & Grid & ScrapBook', 'ART_AND_DESIGN', '4.1', '159', '19M', '10,000+', 'Free', '0', 'Everyone', 'Art & Design', 'January 7, 2018', '1.0.0', '4.0.3 and up']\n",
      "\n",
      "\n",
      "['U Launcher Lite – FREE Live Cool Themes, Hide Apps', 'ART_AND_DESIGN', '4.7', '87510', '8.7M', '5,000,000+', 'Free', '0', 'Everyone', 'Art & Design', 'August 1, 2018', '1.2.4', '4.0.3 and up']\n",
      "\n",
      "\n",
      "Number of rows: 8864\n",
      "Number of columns: 13\n"
     ]
    }
   ],
   "source": [
    "## Isolating the free apps from the android dataset ##\n",
    "free_eng_android = []\n",
    "for app in english_android_apps:\n",
    "    price = app[7]\n",
    "    if price == '0':\n",
    "        free_eng_android.append(app)\n",
    "        \n",
    "explore_data(free_eng_android, 0, 2, True)\n",
    "        \n",
    "    "
   ]
  },
  {
   "cell_type": "code",
   "execution_count": 13,
   "metadata": {
    "collapsed": false
   },
   "outputs": [
    {
     "name": "stdout",
     "output_type": "stream",
     "text": [
      "['284882215', 'Facebook', '389879808', 'USD', '0.0', '2974676', '212', '3.5', '3.5', '95.0', '4+', 'Social Networking', '37', '1', '29', '1']\n",
      "\n",
      "\n",
      "['389801252', 'Instagram', '113954816', 'USD', '0.0', '2161558', '1289', '4.5', '4.0', '10.23', '12+', 'Photo & Video', '37', '0', '29', '1']\n",
      "\n",
      "\n",
      "Number of rows: 3222\n",
      "Number of columns: 16\n"
     ]
    }
   ],
   "source": [
    "## Isolating the fre apps from the ios dataset ##\n",
    "free_eng_ios = []\n",
    "for app in english_ios_apps:\n",
    "    price = app[4]\n",
    "    if price == '0.0':\n",
    "        free_eng_ios.append(app)\n",
    "        \n",
    "explore_data(free_eng_ios, 0 , 2, True)"
   ]
  },
  {
   "cell_type": "markdown",
   "metadata": {
    "collapsed": true
   },
   "source": [
    "To maximize our revenue off of free apps, we have to minimize the risk and cost of our our apps. In order to do so, the idea would be to create a minimal Android version of an app and put it on the Google Play. If the app recieves positive responses from users, the app will be developed/improved further. If the app continues to do well for six months or so, we can proceed to develope an iOS version of the app and add it to the App store. Our end goal is to have a profitable app on both the iOS and Android stores. Let's begin by observing the most popular genres from both the iOS App Store and Android Google Play Store."
   ]
  },
  {
   "cell_type": "code",
   "execution_count": 14,
   "metadata": {
    "collapsed": false
   },
   "outputs": [],
   "source": [
    "## A function to create frequency table to observe ##\n",
    "## most popular apps by genre ##\n",
    "def freq_table(dataset, index):\n",
    "    table = {}\n",
    "    total = 0\n",
    "    for row in dataset:\n",
    "        total += 1\n",
    "        value = row[index]\n",
    "        if value in table:\n",
    "            table[value] += 1\n",
    "        else:\n",
    "            table[value] = 1\n",
    "            \n",
    "    table_percentages = {}\n",
    "    for key in table:\n",
    "        percentage = (table[key] / total) * 100\n",
    "        table_percentages[key] = percentage\n",
    "    \n",
    "    return table_percentages\n",
    "\n",
    "## A function to display a frequency table ##\n",
    "def display_table (dataset, index):\n",
    "    table = freq_table(dataset, index)\n",
    "    table_display = []\n",
    "    for key in table:\n",
    "        key_val_as_tuple = (table[key], key)\n",
    "        table_display.append(key_val_as_tuple)\n",
    "        \n",
    "    table_sorted = sorted(table_display, reverse = True)\n",
    "    for entry in table_sorted:\n",
    "        print(entry[1], ':', entry[0])"
   ]
  },
  {
   "cell_type": "code",
   "execution_count": 15,
   "metadata": {
    "collapsed": false
   },
   "outputs": [
    {
     "name": "stdout",
     "output_type": "stream",
     "text": [
      "Games : 58.16263190564867\n",
      "Entertainment : 7.883302296710118\n",
      "Photo & Video : 4.9658597144630665\n",
      "Education : 3.662321539416512\n",
      "Social Networking : 3.2898820608317814\n",
      "Shopping : 2.60707635009311\n",
      "Utilities : 2.5139664804469275\n",
      "Sports : 2.1415270018621975\n",
      "Music : 2.0484171322160147\n",
      "Health & Fitness : 2.0173805090006205\n",
      "Productivity : 1.7380509000620732\n",
      "Lifestyle : 1.5828677839851024\n",
      "News : 1.3345747982619491\n",
      "Travel : 1.2414649286157666\n",
      "Finance : 1.1173184357541899\n",
      "Weather : 0.8690254500310366\n",
      "Food & Drink : 0.8069522036002483\n",
      "Reference : 0.5586592178770949\n",
      "Business : 0.5276225946617008\n",
      "Book : 0.4345127250155183\n",
      "Navigation : 0.186219739292365\n",
      "Medical : 0.186219739292365\n",
      "Catalogs : 0.12414649286157665\n"
     ]
    }
   ],
   "source": [
    "## Run the iOS dataset through the functionns we just created ##\n",
    "## iOS - Prime Genre Column ##\n",
    "display_table(free_eng_ios, 11)"
   ]
  },
  {
   "cell_type": "markdown",
   "metadata": {},
   "source": [
    "For the free and english apps on iOS App store, the most common genre are `Games` and the second are `Entertainment` apps. A majority of the popular apps happen to be for entertainment purposes. Observing this data, we can see that apps designed for practical purposes do not have high usage.\n",
    "\n",
    "Having a large number of users for a genre does not imply that an app has a large number of users. Depending on the market for a game app, the  number of users for a game app may fluctuate because of other competitors in the market as well."
   ]
  },
  {
   "cell_type": "code",
   "execution_count": 16,
   "metadata": {
    "collapsed": false,
    "scrolled": true
   },
   "outputs": [
    {
     "name": "stdout",
     "output_type": "stream",
     "text": [
      "FAMILY : 18.907942238267147\n",
      "GAME : 9.724729241877256\n",
      "TOOLS : 8.461191335740072\n",
      "BUSINESS : 4.591606498194946\n",
      "LIFESTYLE : 3.9034296028880866\n",
      "PRODUCTIVITY : 3.892148014440433\n",
      "FINANCE : 3.7003610108303246\n",
      "MEDICAL : 3.531137184115524\n",
      "SPORTS : 3.395758122743682\n",
      "PERSONALIZATION : 3.3167870036101084\n",
      "COMMUNICATION : 3.2378158844765346\n",
      "HEALTH_AND_FITNESS : 3.0798736462093865\n",
      "PHOTOGRAPHY : 2.944494584837545\n",
      "NEWS_AND_MAGAZINES : 2.7978339350180503\n",
      "SOCIAL : 2.6624548736462095\n",
      "TRAVEL_AND_LOCAL : 2.33528880866426\n",
      "SHOPPING : 2.2450361010830324\n",
      "BOOKS_AND_REFERENCE : 2.1435018050541514\n",
      "DATING : 1.861462093862816\n",
      "VIDEO_PLAYERS : 1.7937725631768955\n",
      "MAPS_AND_NAVIGATION : 1.3989169675090252\n",
      "FOOD_AND_DRINK : 1.2409747292418771\n",
      "EDUCATION : 1.1620036101083033\n",
      "ENTERTAINMENT : 0.9589350180505415\n",
      "LIBRARIES_AND_DEMO : 0.9363718411552346\n",
      "AUTO_AND_VEHICLES : 0.9250902527075812\n",
      "HOUSE_AND_HOME : 0.8235559566787004\n",
      "WEATHER : 0.8009927797833934\n",
      "EVENTS : 0.7107400722021661\n",
      "PARENTING : 0.6543321299638989\n",
      "ART_AND_DESIGN : 0.6430505415162455\n",
      "COMICS : 0.6204873646209386\n",
      "BEAUTY : 0.5979241877256317\n"
     ]
    }
   ],
   "source": [
    "## Run the Android dataset through the functions we just created ##\n",
    "## Android - Category Column ##\n",
    "display_table(free_eng_android, 1)"
   ]
  },
  {
   "cell_type": "markdown",
   "metadata": {},
   "source": [
    "For the free and english android apps, the most common apps are `Family`, `Games`, and `Tools`. The `Family` genre is a vague title and could mean games for kids. Compared to the iOS app, Google Play has more practical purpose apps that are popular than the App Store."
   ]
  },
  {
   "cell_type": "code",
   "execution_count": 17,
   "metadata": {
    "collapsed": false,
    "scrolled": true
   },
   "outputs": [
    {
     "name": "stdout",
     "output_type": "stream",
     "text": [
      "Tools : 8.449909747292418\n",
      "Entertainment : 6.069494584837545\n",
      "Education : 5.347472924187725\n",
      "Business : 4.591606498194946\n",
      "Productivity : 3.892148014440433\n",
      "Lifestyle : 3.892148014440433\n",
      "Finance : 3.7003610108303246\n",
      "Medical : 3.531137184115524\n",
      "Sports : 3.463447653429603\n",
      "Personalization : 3.3167870036101084\n",
      "Communication : 3.2378158844765346\n",
      "Action : 3.1024368231046933\n",
      "Health & Fitness : 3.0798736462093865\n",
      "Photography : 2.944494584837545\n",
      "News & Magazines : 2.7978339350180503\n",
      "Social : 2.6624548736462095\n",
      "Travel & Local : 2.3240072202166067\n",
      "Shopping : 2.2450361010830324\n",
      "Books & Reference : 2.1435018050541514\n",
      "Simulation : 2.0419675090252705\n",
      "Dating : 1.861462093862816\n",
      "Arcade : 1.8501805054151623\n",
      "Video Players & Editors : 1.7712093862815883\n",
      "Casual : 1.7599277978339352\n",
      "Maps & Navigation : 1.3989169675090252\n",
      "Food & Drink : 1.2409747292418771\n",
      "Puzzle : 1.128158844765343\n",
      "Racing : 0.9927797833935018\n",
      "Role Playing : 0.9363718411552346\n",
      "Libraries & Demo : 0.9363718411552346\n",
      "Auto & Vehicles : 0.9250902527075812\n",
      "Strategy : 0.9138086642599278\n",
      "House & Home : 0.8235559566787004\n",
      "Weather : 0.8009927797833934\n",
      "Events : 0.7107400722021661\n",
      "Adventure : 0.6768953068592057\n",
      "Comics : 0.6092057761732852\n",
      "Beauty : 0.5979241877256317\n",
      "Art & Design : 0.5979241877256317\n",
      "Parenting : 0.4963898916967509\n",
      "Card : 0.45126353790613716\n",
      "Casino : 0.42870036101083037\n",
      "Trivia : 0.41741877256317694\n",
      "Educational;Education : 0.39485559566787\n",
      "Board : 0.3835740072202166\n",
      "Educational : 0.3722924187725632\n",
      "Education;Education : 0.33844765342960287\n",
      "Word : 0.2594765342960289\n",
      "Casual;Pretend Play : 0.236913357400722\n",
      "Music : 0.2030685920577617\n",
      "Racing;Action & Adventure : 0.16922382671480143\n",
      "Puzzle;Brain Games : 0.16922382671480143\n",
      "Entertainment;Music & Video : 0.16922382671480143\n",
      "Casual;Brain Games : 0.13537906137184114\n",
      "Casual;Action & Adventure : 0.13537906137184114\n",
      "Arcade;Action & Adventure : 0.12409747292418773\n",
      "Action;Action & Adventure : 0.10153429602888085\n",
      "Educational;Pretend Play : 0.09025270758122744\n",
      "Simulation;Action & Adventure : 0.078971119133574\n",
      "Parenting;Education : 0.078971119133574\n",
      "Entertainment;Brain Games : 0.078971119133574\n",
      "Board;Brain Games : 0.078971119133574\n",
      "Parenting;Music & Video : 0.06768953068592057\n",
      "Educational;Brain Games : 0.06768953068592057\n",
      "Casual;Creativity : 0.06768953068592057\n",
      "Art & Design;Creativity : 0.06768953068592057\n",
      "Education;Pretend Play : 0.056407942238267145\n",
      "Role Playing;Pretend Play : 0.04512635379061372\n",
      "Education;Creativity : 0.04512635379061372\n",
      "Role Playing;Action & Adventure : 0.033844765342960284\n",
      "Puzzle;Action & Adventure : 0.033844765342960284\n",
      "Entertainment;Creativity : 0.033844765342960284\n",
      "Entertainment;Action & Adventure : 0.033844765342960284\n",
      "Educational;Creativity : 0.033844765342960284\n",
      "Educational;Action & Adventure : 0.033844765342960284\n",
      "Education;Music & Video : 0.033844765342960284\n",
      "Education;Brain Games : 0.033844765342960284\n",
      "Education;Action & Adventure : 0.033844765342960284\n",
      "Adventure;Action & Adventure : 0.033844765342960284\n",
      "Video Players & Editors;Music & Video : 0.02256317689530686\n",
      "Sports;Action & Adventure : 0.02256317689530686\n",
      "Simulation;Pretend Play : 0.02256317689530686\n",
      "Puzzle;Creativity : 0.02256317689530686\n",
      "Music;Music & Video : 0.02256317689530686\n",
      "Entertainment;Pretend Play : 0.02256317689530686\n",
      "Casual;Education : 0.02256317689530686\n",
      "Board;Action & Adventure : 0.02256317689530686\n",
      "Video Players & Editors;Creativity : 0.01128158844765343\n",
      "Trivia;Education : 0.01128158844765343\n",
      "Travel & Local;Action & Adventure : 0.01128158844765343\n",
      "Tools;Education : 0.01128158844765343\n",
      "Strategy;Education : 0.01128158844765343\n",
      "Strategy;Creativity : 0.01128158844765343\n",
      "Strategy;Action & Adventure : 0.01128158844765343\n",
      "Simulation;Education : 0.01128158844765343\n",
      "Role Playing;Brain Games : 0.01128158844765343\n",
      "Racing;Pretend Play : 0.01128158844765343\n",
      "Puzzle;Education : 0.01128158844765343\n",
      "Parenting;Brain Games : 0.01128158844765343\n",
      "Music & Audio;Music & Video : 0.01128158844765343\n",
      "Lifestyle;Pretend Play : 0.01128158844765343\n",
      "Lifestyle;Education : 0.01128158844765343\n",
      "Health & Fitness;Education : 0.01128158844765343\n",
      "Health & Fitness;Action & Adventure : 0.01128158844765343\n",
      "Entertainment;Education : 0.01128158844765343\n",
      "Communication;Creativity : 0.01128158844765343\n",
      "Comics;Creativity : 0.01128158844765343\n",
      "Casual;Music & Video : 0.01128158844765343\n",
      "Card;Action & Adventure : 0.01128158844765343\n",
      "Books & Reference;Education : 0.01128158844765343\n",
      "Art & Design;Pretend Play : 0.01128158844765343\n",
      "Art & Design;Action & Adventure : 0.01128158844765343\n",
      "Arcade;Pretend Play : 0.01128158844765343\n",
      "Adventure;Education : 0.01128158844765343\n"
     ]
    }
   ],
   "source": [
    "## Android - Genres Column ##\n",
    "display_table(free_eng_android, -4)"
   ]
  },
  {
   "cell_type": "markdown",
   "metadata": {},
   "source": [
    "The difference between the `Category` and `Genre` column are not apparent. The biggest difference is that the `Genre` column seems to have a lot more labels. For the meantime, we can observe the `Category` column to get the big picture. \n",
    "\n",
    "For now, we have observed that the App store contains more apps that are designed for fun and entertainment, while the Google Play store has a mixture of both fun and practical apps."
   ]
  },
  {
   "cell_type": "markdown",
   "metadata": {
    "collapsed": true
   },
   "source": [
    "# Most Popular Apps by Genre on the App Store"
   ]
  },
  {
   "cell_type": "markdown",
   "metadata": {},
   "source": [
    "A way to find the most popular app by genre is to observe the total number of `installs` from both the dataset. The App Store does not have an installs category, but we can use `rating_count_tot` as a workaround.\n"
   ]
  },
  {
   "cell_type": "code",
   "execution_count": 18,
   "metadata": {
    "collapsed": false
   },
   "outputs": [
    {
     "name": "stdout",
     "output_type": "stream",
     "text": [
      "Social Networking : 71548.34905660378\n",
      "Sports : 23008.898550724636\n",
      "Medical : 612.0\n",
      "Productivity : 21028.410714285714\n",
      "Utilities : 18684.456790123455\n",
      "Finance : 31467.944444444445\n",
      "Book : 39758.5\n",
      "News : 21248.023255813954\n",
      "Lifestyle : 16485.764705882353\n",
      "Music : 57326.530303030304\n",
      "Navigation : 86090.33333333333\n",
      "Travel : 28243.8\n",
      "Entertainment : 14029.830708661417\n",
      "Catalogs : 4004.0\n",
      "Business : 7491.117647058823\n",
      "Games : 22788.6696905016\n",
      "Health & Fitness : 23298.015384615384\n",
      "Photo & Video : 28441.54375\n",
      "Shopping : 26919.690476190477\n",
      "Food & Drink : 33333.92307692308\n",
      "Reference : 74942.11111111111\n",
      "Weather : 52279.892857142855\n",
      "Education : 7003.983050847458\n"
     ]
    }
   ],
   "source": [
    "genres_ios = freq_table(free_eng_ios, -5)\n",
    "\n",
    "for genre in genres_ios:\n",
    "    total = 0 # store sum of user ratings\n",
    "    len_genre = 0 # store the number of apps specific to each genre\n",
    "    for app in free_eng_ios:\n",
    "        genre_app = app[-5]\n",
    "        if genre_app == genre:\n",
    "            number_rating = float(app[5])\n",
    "            total += number_rating\n",
    "            len_genre += 1\n",
    "    avg_number_rating = total / len_genre\n",
    "    print(genre, ':', avg_number_rating)"
   ]
  },
  {
   "cell_type": "markdown",
   "metadata": {},
   "source": [
    "From the averages of total rating counts, it appears that `Navigation` apps have the most frequent amount of user reviews. This high review count could be influence by GPS type apps for navigation. The second highest genre with user reviews are `Reference` type apps. These apps include informative apps such as `Google Translate`."
   ]
  },
  {
   "cell_type": "markdown",
   "metadata": {},
   "source": [
    "# Most Popular Apps by Genre on the Google Play Store"
   ]
  },
  {
   "cell_type": "code",
   "execution_count": 28,
   "metadata": {
    "collapsed": false
   },
   "outputs": [
    {
     "name": "stdout",
     "output_type": "stream",
     "text": [
      "MAPS_AND_NAVIGATION : 4056941.7741935486\n",
      "SHOPPING : 7036877.311557789\n",
      "HEALTH_AND_FITNESS : 4188821.9853479853\n",
      "DATING : 854028.8303030303\n",
      "BUSINESS : 1712290.1474201474\n",
      "PARENTING : 542603.6206896552\n",
      "PERSONALIZATION : 5201482.6122448975\n",
      "BOOKS_AND_REFERENCE : 8767811.894736841\n",
      "PHOTOGRAPHY : 17840110.40229885\n",
      "COMICS : 817657.2727272727\n",
      "AUTO_AND_VEHICLES : 647317.8170731707\n",
      "SOCIAL : 23253652.127118643\n",
      "EVENTS : 253542.22222222222\n",
      "GAME : 15588015.603248259\n",
      "LIBRARIES_AND_DEMO : 638503.734939759\n",
      "TOOLS : 10801391.298666667\n",
      "SPORTS : 3638640.1428571427\n",
      "BEAUTY : 513151.88679245283\n",
      "FAMILY : 3695641.8198090694\n",
      "VIDEO_PLAYERS : 24727872.452830188\n",
      "EDUCATION : 1833495.145631068\n",
      "PRODUCTIVITY : 16787331.344927534\n",
      "LIFESTYLE : 1437816.2687861272\n",
      "FINANCE : 1387692.475609756\n",
      "MEDICAL : 120550.61980830671\n",
      "TRAVEL_AND_LOCAL : 13984077.710144928\n",
      "FOOD_AND_DRINK : 1924897.7363636363\n",
      "WEATHER : 5074486.197183099\n",
      "HOUSE_AND_HOME : 1331540.5616438356\n",
      "ART_AND_DESIGN : 1986335.0877192982\n",
      "COMMUNICATION : 38456119.167247385\n",
      "ENTERTAINMENT : 11640705.88235294\n",
      "NEWS_AND_MAGAZINES : 9549178.467741935\n"
     ]
    }
   ],
   "source": [
    "categories_android = freq_table(free_eng_android, 1)\n",
    "\n",
    "for category in categories_android:\n",
    "    total = 0\n",
    "    len_category = 0\n",
    "    for app in free_eng_android:\n",
    "        category_app = app[1]\n",
    "        if category_app == category:\n",
    "            n_installs = app[5]\n",
    "            n_installs = n_installs.replace('+', '')\n",
    "            n_installs = n_installs.replace(',', '')\n",
    "            total += float(n_installs)\n",
    "            len_category += 1\n",
    "    avg_n_installs = total / len_category\n",
    "    print(category, ':', avg_n_installs)"
   ]
  },
  {
   "cell_type": "markdown",
   "metadata": {},
   "source": [
    "On average, the highest installed apps by `genre` are the `Communication` apps with 38,456,119 installs."
   ]
  },
  {
   "cell_type": "code",
   "execution_count": 34,
   "metadata": {
    "collapsed": false
   },
   "outputs": [
    {
     "name": "stdout",
     "output_type": "stream",
     "text": [
      "WhatsApp Messenger : 1,000,000,000+\n",
      "My Tele2 : 5,000,000+\n",
      "Call Free – Free Call : 5,000,000+\n",
      "Web Browser & Explorer : 5,000,000+\n",
      "TracFone My Account : 1,000,000+\n",
      "Skype Lite - Free Video Call & Chat : 5,000,000+\n",
      "My magenta : 1,000,000+\n",
      "Seznam.cz : 1,000,000+\n",
      "My Vodacom SA : 5,000,000+\n",
      "Microsoft Edge : 5,000,000+\n",
      "Messenger – Text and Video Chat for Free : 1,000,000,000+\n",
      "Calls & Text by Mo+ : 5,000,000+\n",
      "Skype - free IM & video calls : 1,000,000,000+\n",
      "Messaging+ SMS, MMS Free : 1,000,000+\n",
      "mysms SMS Text Messaging Sync : 1,000,000+\n",
      "2ndLine - Second Phone Number : 1,000,000+\n",
      "Google Chrome: Fast & Secure : 1,000,000,000+\n",
      "Ninesky Browser : 1,000,000+\n",
      "Ghostery Privacy Browser : 1,000,000+\n",
      "InBrowser - Incognito Browsing : 1,000,000+\n",
      "PHONE for Google Voice & GTalk : 1,000,000+\n",
      "Safest Call Blocker : 1,000,000+\n",
      "Full Screen Caller ID : 5,000,000+\n",
      "Should I Answer? : 1,000,000+\n",
      "RocketDial Dialer & Contacts : 1,000,000+\n",
      "CIA - Caller ID & Call Blocker : 5,000,000+\n",
      "Call Control - Call Blocker : 5,000,000+\n",
      "True Contact - Real Caller ID : 1,000,000+\n",
      "Video Caller Id : 1,000,000+\n",
      "Sync.ME – Caller ID & Block : 5,000,000+\n",
      "Burner - Free Phone Number : 1,000,000+\n",
      "Caller ID + : 1,000,000+\n",
      "Gmail : 1,000,000,000+\n",
      "K-9 Mail : 5,000,000+\n",
      "Email TypeApp - Mail App : 1,000,000+\n",
      "All Email Providers : 1,000,000+\n",
      "Newton Mail - Email App for Gmail, Outlook, IMAP : 1,000,000+\n",
      "Daum Mail - Next Mail : 5,000,000+\n",
      "mail.com mail : 1,000,000+\n",
      "Hangouts : 1,000,000,000+\n",
      "Vonage Mobile® Call Video Text : 1,000,000+\n",
      "JusTalk - Free Video Calls and Fun Video Chat : 5,000,000+\n",
      "AntennaPict β : 1,000,000+\n",
      "AT&T Messages for Tablet : 1,000,000+\n",
      "AT&T Call Protect : 5,000,000+\n",
      "Adblock Plus for Samsung Internet - Browse safe. : 1,000,000+\n",
      "Brave Browser: Fast AdBlocker : 5,000,000+\n",
      "Ear Agent: Super Hearing : 5,000,000+\n",
      "AW - free video calls and chat : 1,000,000+\n",
      "BBMoji - Your personalized BBM Stickers : 1,000,000+\n",
      "SW-100.tch by Callstel : 1,000,000+\n",
      "Bluetooth Auto Connect : 5,000,000+\n",
      "Tiny Call Confirm : 1,000,000+\n",
      "CB Radio Chat - for friends! : 1,000,000+\n",
      "Virtual Walkie Talkie : 1,000,000+\n",
      "Chrome Dev : 5,000,000+\n",
      "CM Transfer - Share any files with friends nearby : 5,000,000+\n",
      "ClanPlay: Community and Tools for Gamers : 1,000,000+\n",
      "My Vodafone (GR) : 1,000,000+\n",
      "Your Freedom VPN Client : 5,000,000+\n",
      "Caller ID & Call Block - DU Caller : 5,000,000+\n",
      "DW Contacts & Phone & Dialer : 1,000,000+\n",
      "Call Blocker - Blacklist, SMS Blocker : 1,000,000+\n",
      "Web Browser for Android : 1,000,000+\n",
      "Lite for Facebook Messenger : 1,000,000+\n",
      "Wi-Fi Auto-connect : 1,000,000+\n",
      "WeFi - Free Fast WiFi Connect & Find Wi-Fi Map : 1,000,000+\n",
      "Firefox Focus: The privacy browser : 1,000,000+\n"
     ]
    }
   ],
   "source": [
    "for app in free_eng_android:\n",
    "    if app[1] == 'COMMUNICATION' and (app[5] == '1,000,000,000+' \n",
    "                                      or app[5] == '5,000,000+' \n",
    "                                      or app[5] == '1,000,000+'):\n",
    "        print(app[0], ':', app[5])"
   ]
  },
  {
   "cell_type": "code",
   "execution_count": null,
   "metadata": {
    "collapsed": true
   },
   "outputs": [],
   "source": []
  }
 ],
 "metadata": {
  "kernelspec": {
   "display_name": "Python 3",
   "language": "python",
   "name": "python3"
  },
  "language_info": {
   "codemirror_mode": {
    "name": "ipython",
    "version": 3
   },
   "file_extension": ".py",
   "mimetype": "text/x-python",
   "name": "python",
   "nbconvert_exporter": "python",
   "pygments_lexer": "ipython3",
   "version": "3.4.3"
  }
 },
 "nbformat": 4,
 "nbformat_minor": 2
}
